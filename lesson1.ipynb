{
 "cells": [
  {
   "cell_type": "code",
   "execution_count": 1,
   "metadata": {},
   "outputs": [],
   "source": [
    "import torch"
   ]
  },
  {
   "cell_type": "markdown",
   "metadata": {},
   "source": [
    "1. Tensor Basic"
   ]
  },
  {
   "cell_type": "markdown",
   "metadata": {},
   "source": [
    "        1.1 Creating Tensors"
   ]
  },
  {
   "cell_type": "code",
   "execution_count": 2,
   "metadata": {},
   "outputs": [
    {
     "name": "stdout",
     "output_type": "stream",
     "text": [
      "tensor([0., 0.])\n",
      "tensor([[0.0000e+00, 0.0000e+00],\n",
      "        [3.0032e-33, 4.5907e-41]])\n",
      "tensor([[[0.0000e+00, 0.0000e+00],\n",
      "         [4.2313e+21, 1.0513e-05]],\n",
      "\n",
      "        [[6.4535e-10, 1.7567e-04],\n",
      "         [6.8255e-07, 2.0659e+20]]])\n"
     ]
    }
   ],
   "source": [
    "#1.1.1 creating empty tensor\n",
    "x= torch.empty(2) #1d\n",
    "print(x)\n",
    "y= torch.empty(2,2) #2d\n",
    "print(y)\n",
    "z= torch.empty(2,2,2) #3d\n",
    "print(z)"
   ]
  },
  {
   "cell_type": "code",
   "execution_count": 3,
   "metadata": {},
   "outputs": [
    {
     "name": "stdout",
     "output_type": "stream",
     "text": [
      "tensor([0.6894, 0.9574])\n",
      "tensor([[0.1371, 0.0507],\n",
      "        [0.3135, 0.6874]])\n",
      "tensor([[[0.8542, 0.0866],\n",
      "         [0.7995, 0.1249]],\n",
      "\n",
      "        [[0.0420, 0.4299],\n",
      "         [0.9630, 0.4287]]])\n"
     ]
    }
   ],
   "source": [
    "#1.1.2 creating random tensor\n",
    "x= torch.rand(2) #1d\n",
    "print(x)\n",
    "y= torch.rand(2,2) #2d\n",
    "print(y)\n",
    "z= torch.rand(2,2,2) #3d\n",
    "print(z)"
   ]
  },
  {
   "cell_type": "code",
   "execution_count": 4,
   "metadata": {},
   "outputs": [
    {
     "name": "stdout",
     "output_type": "stream",
     "text": [
      "tensor([0., 0.])\n",
      "tensor([[0., 0.],\n",
      "        [0., 0.]])\n",
      "tensor([[[0., 0.],\n",
      "         [0., 0.]],\n",
      "\n",
      "        [[0., 0.],\n",
      "         [0., 0.]]])\n"
     ]
    }
   ],
   "source": [
    "#1.1.3 creating zeros tensor\n",
    "x= torch.zeros(2) #1d\n",
    "print(x)\n",
    "y= torch.zeros(2,2) #2d\n",
    "print(y)\n",
    "z= torch.zeros(2,2,2) #3d\n",
    "print(z)"
   ]
  },
  {
   "cell_type": "code",
   "execution_count": 5,
   "metadata": {},
   "outputs": [
    {
     "name": "stdout",
     "output_type": "stream",
     "text": [
      "tensor([[[1., 1.],\n",
      "         [1., 1.]],\n",
      "\n",
      "        [[1., 1.],\n",
      "         [1., 1.]]])\n"
     ]
    }
   ],
   "source": [
    "#1.1.4 creating ones tensor\n",
    "#can create as many dimensions as wanted\n",
    "x= torch.ones(2,2,2) #3d\n",
    "print(x)"
   ]
  },
  {
   "cell_type": "code",
   "execution_count": 6,
   "metadata": {},
   "outputs": [
    {
     "name": "stdout",
     "output_type": "stream",
     "text": [
      "tensor([2.2200, 3.1000])\n"
     ]
    }
   ],
   "source": [
    "#1.1.5 creating manual tensor\n",
    "z= torch.tensor([2.22, 3.1])\n",
    "print(z)"
   ]
  },
  {
   "cell_type": "markdown",
   "metadata": {},
   "source": [
    "        1.2 Adding Data types for tensor elements"
   ]
  },
  {
   "cell_type": "code",
   "execution_count": 7,
   "metadata": {},
   "outputs": [
    {
     "name": "stdout",
     "output_type": "stream",
     "text": [
      "torch.float32\n"
     ]
    }
   ],
   "source": [
    "#1.2.1 normally its float32\n",
    "x= torch.rand(2,2)\n",
    "print(x.dtype)"
   ]
  },
  {
   "cell_type": "code",
   "execution_count": 8,
   "metadata": {},
   "outputs": [
    {
     "name": "stdout",
     "output_type": "stream",
     "text": [
      "torch.int32\n",
      "torch.float64\n",
      "torch.int64\n",
      "torch.float16\n"
     ]
    }
   ],
   "source": [
    "#1.2.2 changing dtype\n",
    "x= torch.ones(2,2, dtype=torch.int)\n",
    "print(x.dtype)\n",
    "y= torch.ones(2,2, dtype=torch.double)\n",
    "print(y.dtype)\n",
    "z= torch.ones(2,2, dtype=torch.long)\n",
    "print(z.dtype)\n",
    "x1 = torch.ones(2,2, dtype=torch.float16)\n",
    "print(x1.dtype)"
   ]
  },
  {
   "cell_type": "markdown",
   "metadata": {},
   "source": [
    "        1.3 Size of tensor"
   ]
  },
  {
   "cell_type": "code",
   "execution_count": 9,
   "metadata": {},
   "outputs": [
    {
     "name": "stdout",
     "output_type": "stream",
     "text": [
      "torch.Size([2, 2])\n"
     ]
    }
   ],
   "source": [
    "print(x1.size())"
   ]
  },
  {
   "cell_type": "markdown",
   "metadata": {},
   "source": [
    "        1.4 Basic arithmetic operation with tensors"
   ]
  },
  {
   "cell_type": "code",
   "execution_count": 10,
   "metadata": {},
   "outputs": [
    {
     "name": "stdout",
     "output_type": "stream",
     "text": [
      "tensor([[0.8379, 0.3549],\n",
      "        [0.7811, 0.9980]])\n",
      "tensor([[0.4256, 0.7775],\n",
      "        [0.7358, 0.6980]])\n"
     ]
    }
   ],
   "source": [
    "# value init\n",
    "x= torch.rand(2,2)\n",
    "print(x)\n",
    "y= torch.rand(2,2)\n",
    "print(y)\n"
   ]
  },
  {
   "cell_type": "code",
   "execution_count": 11,
   "metadata": {},
   "outputs": [
    {
     "name": "stdout",
     "output_type": "stream",
     "text": [
      "tensor([[1.2635, 1.1324],\n",
      "        [1.5169, 1.6960]])\n",
      "tensor([[1.2635, 1.1324],\n",
      "        [1.5169, 1.6960]])\n"
     ]
    }
   ],
   "source": [
    "#1.4.1 addition\n",
    "z= torch.add(x,y)   # OR z= x+y\n",
    "y.add_(x) #adds value of x and y and stores in y\n",
    "print(z)\n",
    "print(y)"
   ]
  },
  {
   "cell_type": "code",
   "execution_count": 12,
   "metadata": {},
   "outputs": [
    {
     "name": "stdout",
     "output_type": "stream",
     "text": [
      "tensor([[-0.4256, -0.7775],\n",
      "        [-0.7358, -0.6980]])\n",
      "tensor([[0.4256, 0.7775],\n",
      "        [0.7358, 0.6980]])\n"
     ]
    }
   ],
   "source": [
    "#1.4.2 substraction\n",
    "z= torch.sub(x,y) #OR z= x-y\n",
    "y.sub_(x)  #OR y= y-x\n",
    "print(z)\n",
    "print(y)"
   ]
  },
  {
   "cell_type": "code",
   "execution_count": 13,
   "metadata": {},
   "outputs": [
    {
     "name": "stdout",
     "output_type": "stream",
     "text": [
      "tensor([[0.3566, 0.2760],\n",
      "        [0.5747, 0.6966]])\n",
      "tensor([[0.3566, 0.2760],\n",
      "        [0.5747, 0.6966]])\n"
     ]
    }
   ],
   "source": [
    "#1.4.3 multiplication\n",
    "z= torch.mul(x,y) #OR z=x*y\n",
    "y.mul_(x)\n",
    "print(z)\n",
    "print(y)"
   ]
  },
  {
   "cell_type": "code",
   "execution_count": 14,
   "metadata": {},
   "outputs": [
    {
     "name": "stdout",
     "output_type": "stream",
     "text": [
      "tensor([[2.3498, 1.2862],\n",
      "        [1.3590, 1.4326]])\n",
      "tensor([[0.4256, 0.7775],\n",
      "        [0.7358, 0.6980]])\n"
     ]
    }
   ],
   "source": [
    "#1.4.4 division\n",
    "z= torch.div(x,y) #OR z=x/y\n",
    "y.div_(x) #OR y= y/x\n",
    "print(z)\n",
    "print(y)"
   ]
  },
  {
   "cell_type": "markdown",
   "metadata": {},
   "source": [
    "        1.5 Slicing"
   ]
  },
  {
   "cell_type": "code",
   "execution_count": 15,
   "metadata": {},
   "outputs": [
    {
     "name": "stdout",
     "output_type": "stream",
     "text": [
      "tensor([[0.7330, 0.3537, 0.8305, 0.4612],\n",
      "        [0.4602, 0.0617, 0.9977, 0.3546],\n",
      "        [0.7993, 0.7024, 0.6389, 0.0982]])\n",
      "tensor([0.7330, 0.4602, 0.7993])\n",
      "tensor([0.4602, 0.0617, 0.9977, 0.3546])\n",
      "tensor(0.9977)\n",
      "tensor([[0.7330, 0.3537, 0.8305, 0.4612],\n",
      "        [0.4602, 0.0617, 0.9977, 0.3546]])\n",
      "0.06167846918106079\n"
     ]
    }
   ],
   "source": [
    "#syntax: tensor[selected rows, selected column] {use ':' to select all}\n",
    "x= torch.rand(3,4)\n",
    "print(x)\n",
    "print(x[:,0])\n",
    "print(x[1,:])\n",
    "print(x[1,2])\n",
    "print(x[:2])\n",
    "print(x[1,1].item()) #'.item' outputs actual value of the element of tensor. \"Only one element can be picked\""
   ]
  },
  {
   "cell_type": "markdown",
   "metadata": {},
   "source": [
    "        1.6 Resizing/ Reshaping tensor"
   ]
  },
  {
   "cell_type": "code",
   "execution_count": 16,
   "metadata": {},
   "outputs": [
    {
     "name": "stdout",
     "output_type": "stream",
     "text": [
      "tensor([[0.1559, 0.3288, 0.5715, 0.1673],\n",
      "        [0.5964, 0.7977, 0.1694, 0.3175],\n",
      "        [0.0583, 0.2366, 0.2936, 0.6485],\n",
      "        [0.7612, 0.4768, 0.2010, 0.7019]])\n",
      "tensor([0.1559, 0.3288, 0.5715, 0.1673, 0.5964, 0.7977, 0.1694, 0.3175, 0.0583,\n",
      "        0.2366, 0.2936, 0.6485, 0.7612, 0.4768, 0.2010, 0.7019])\n",
      "torch.Size([16])\n",
      "tensor([[0.1559, 0.3288, 0.5715, 0.1673, 0.5964, 0.7977, 0.1694, 0.3175],\n",
      "        [0.0583, 0.2366, 0.2936, 0.6485, 0.7612, 0.4768, 0.2010, 0.7019]])\n",
      "torch.Size([2, 8])\n",
      "tensor([[0.1559, 0.3288],\n",
      "        [0.5715, 0.1673],\n",
      "        [0.5964, 0.7977],\n",
      "        [0.1694, 0.3175],\n",
      "        [0.0583, 0.2366],\n",
      "        [0.2936, 0.6485],\n",
      "        [0.7612, 0.4768],\n",
      "        [0.2010, 0.7019]])\n",
      "torch.Size([8, 2])\n"
     ]
    }
   ],
   "source": [
    "x= torch.rand(4,4)\n",
    "print(x)\n",
    "y= x.view(16)\n",
    "print(y)\n",
    "print(y.size())\n",
    "y= x.view(2,8)\n",
    "print(y)\n",
    "print(y.size())\n",
    "y= x.view(8,2)\n",
    "print(y)\n",
    "print(y.size())"
   ]
  },
  {
   "cell_type": "markdown",
   "metadata": {},
   "source": [
    "        1.7 Tensor <-> numpy array"
   ]
  },
  {
   "cell_type": "code",
   "execution_count": 17,
   "metadata": {},
   "outputs": [],
   "source": [
    "import numpy as np"
   ]
  },
  {
   "cell_type": "code",
   "execution_count": 18,
   "metadata": {},
   "outputs": [
    {
     "name": "stdout",
     "output_type": "stream",
     "text": [
      "tensor([[0.2388, 0.3971],\n",
      "        [0.7667, 0.0013]])\n",
      "[[0.23875272 0.39710343]\n",
      " [0.76674193 0.00134712]] <class 'numpy.ndarray'>\n",
      "tensor([[1.2388, 1.3971],\n",
      "        [1.7667, 1.0013]]) [[1.2387527 1.3971034]\n",
      " [1.766742  1.0013471]]\n"
     ]
    }
   ],
   "source": [
    "#1.7.1 tensor -> numpy array\n",
    "x= torch.rand(2,2)\n",
    "print(x)\n",
    "y= x.numpy()\n",
    "print(y,type(y))\n",
    "#If tensor is in cpu but not in gpu then both objects \n",
    "#(the tensor and numpy array) share the same memory location.\n",
    "#both x and y will change if only x or only y is changed\n",
    "x.add_(1)\n",
    "print(x,y)"
   ]
  },
  {
   "cell_type": "code",
   "execution_count": 19,
   "metadata": {},
   "outputs": [
    {
     "name": "stdout",
     "output_type": "stream",
     "text": [
      "[[1 2 3]\n",
      " [4 5 6]]\n",
      "tensor([[1, 2, 3],\n",
      "        [4, 5, 6]], dtype=torch.int16)\n"
     ]
    }
   ],
   "source": [
    "#1.7.2 numpy array -> tensor\n",
    "x= np.array([[1,2,3],[4,5,6]], dtype= 'int16')\n",
    "print(x)\n",
    "y= torch.from_numpy(x)\n",
    "print(y)\n",
    "#If tensor is in cpu but not in gpu then both objects \n",
    "#(the tensor and numpy array) share the same memory location.\n",
    "#both x and y will change if only x or only y is changed"
   ]
  },
  {
   "cell_type": "markdown",
   "metadata": {},
   "source": [
    "P.S.: tensor in GPU can't be converted to numpy "
   ]
  },
  {
   "cell_type": "markdown",
   "metadata": {},
   "source": [
    "GPU|cuda"
   ]
  },
  {
   "cell_type": "code",
   "execution_count": 20,
   "metadata": {},
   "outputs": [],
   "source": [
    "if torch.cuda.is_available():\n",
    "    device = torch.device(\"cuda\")\n",
    "    x= torch.ones(3, device=device)\n",
    "    y= torch.ones(3)\n",
    "    y= y.to(device)\n",
    "    z= x+y\n",
    "    z= z.to(\"cpu\")\n",
    "    z= z.numpy()\n",
    "    print(z)"
   ]
  },
  {
   "cell_type": "markdown",
   "metadata": {},
   "source": [
    "requires_grad = True: to optimize the tensor variable (tells pytorch that it needs to calculate gradient for the tensor later in optimization steps)"
   ]
  },
  {
   "cell_type": "code",
   "execution_count": 21,
   "metadata": {},
   "outputs": [
    {
     "name": "stdout",
     "output_type": "stream",
     "text": [
      "tensor([1., 1., 1.], requires_grad=True)\n"
     ]
    }
   ],
   "source": [
    "x =  torch.ones(3, requires_grad=True)\n",
    "print(x)"
   ]
  },
  {
   "cell_type": "code",
   "execution_count": null,
   "metadata": {},
   "outputs": [],
   "source": []
  }
 ],
 "metadata": {
  "kernelspec": {
   "display_name": "Python 3 (ipykernel)",
   "language": "python",
   "name": "python3"
  },
  "language_info": {
   "codemirror_mode": {
    "name": "ipython",
    "version": 3
   },
   "file_extension": ".py",
   "mimetype": "text/x-python",
   "name": "python",
   "nbconvert_exporter": "python",
   "pygments_lexer": "ipython3",
   "version": "3.8.2"
  }
 },
 "nbformat": 4,
 "nbformat_minor": 2
}
