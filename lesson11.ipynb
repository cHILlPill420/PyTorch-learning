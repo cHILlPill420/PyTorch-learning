{
 "cells": [
  {
   "cell_type": "markdown",
   "metadata": {},
   "source": [
    "Activation Function\n",
    "\n",
    "- Step function: x>=threshold ? f(x)=1 : f(x)=0 <not used in practice>\n",
    "- Sigmoid function: f(x) = 1/(1+e^(-x)) <normally used in last layer of binary classification> [output: (0 , 1)]\n",
    "- TanH function: f(x) = (2/(1+e^(-2x)))-1 <usually used as hidden layer> [output: (-1 , 1)]\n",
    "- ReLU function: f(x) = max(0,x)\n",
    "- Leaky ReLU function: x>=0? f(X)=x: f(x)=a.x <improved version of ReLU, solves vanishing gradient probelm>\n",
    "- Softmax: f(yi) = exponential(yi)/sum of exponentials of (yi) <used in last layer of multiclass classification problem>[output = probability of occurence]"
   ]
  },
  {
   "cell_type": "markdown",
   "metadata": {},
   "source": []
  },
  {
   "cell_type": "code",
   "execution_count": 1,
   "metadata": {},
   "outputs": [],
   "source": [
    "import torch\n",
    "import torch.nn as nn"
   ]
  },
  {
   "cell_type": "code",
   "execution_count": 4,
   "metadata": {},
   "outputs": [],
   "source": [
    "class NeuralNet1(nn.Module):\n",
    "    def __init__(self, input_size, hidden_size, output_size):\n",
    "        super(NeuralNet1, self).__init__()\n",
    "        self.linear1 = nn.Linear(input_size,hidden_size) #linear combiner\n",
    "        self.relu = nn.ReLU() #activation function\n",
    "        self.linear2 = nn.Linear(hidden_size, output_size)\n",
    "        self.sigmoid = nn.Sigmoid() #activation function\n",
    "    \n",
    "    def forward(self, x): # input -> linear1 -> activation function -> linear2 -> activation function -> output\n",
    "        out = self.linear1(x)\n",
    "        out = self.relu(out)\n",
    "        out = self.linear2(out)\n",
    "        out = self.sigmoid(out)\n",
    "        return out\n"
   ]
  },
  {
   "cell_type": "code",
   "execution_count": 6,
   "metadata": {},
   "outputs": [],
   "source": [
    "#using activation function directly in forward pass\n",
    "class NeuralNet2(nn.Module):\n",
    "    def __init__(self, input_size, hiddn_size, output_size):\n",
    "        super(NeuralNet2,self).__init__()\n",
    "        self.linear1 = nn.Linear(input_size,hiddn_size)\n",
    "        self.linear2 = nn.Linear(hiddn_size, output_size)\n",
    "    \n",
    "    def forward(self,x):\n",
    "        out = torch.relu(self.linear1(x))\n",
    "        out = torch.sigmoid(self.linear2(out))"
   ]
  },
  {
   "cell_type": "markdown",
   "metadata": {},
   "source": [
    "Both of the above classes does the same thing"
   ]
  }
 ],
 "metadata": {
  "interpreter": {
   "hash": "03b9120f418a5b95b4a7c89786f0fbf5745ee3d028df6a561a6ecf7134c23247"
  },
  "kernelspec": {
   "display_name": "Python 3.8.2 ('torch-cpu': venv)",
   "language": "python",
   "name": "python3"
  },
  "language_info": {
   "codemirror_mode": {
    "name": "ipython",
    "version": 3
   },
   "file_extension": ".py",
   "mimetype": "text/x-python",
   "name": "python",
   "nbconvert_exporter": "python",
   "pygments_lexer": "ipython3",
   "version": "3.8.2"
  },
  "orig_nbformat": 4
 },
 "nbformat": 4,
 "nbformat_minor": 2
}
