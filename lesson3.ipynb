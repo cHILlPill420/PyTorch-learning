{
 "cells": [
  {
   "cell_type": "markdown",
   "metadata": {},
   "source": [
    "Backpropagation (Theory + Eg)"
   ]
  },
  {
   "cell_type": "markdown",
   "metadata": {},
   "source": [
    "- Concept 1: Chain Rule \n",
    "    - let x->a(x)=y->b(y)=z->loss\n",
    "    - then to minimize z wrt x:\n",
    "        - dz/dx = dz/dy * dy/dx"
   ]
  },
  {
   "cell_type": "markdown",
   "metadata": {},
   "source": [
    "- Concept 2: Computational Graph\n",
    "    - provided by pytorch\n",
    "    - node = computational unit\n",
    "    - find local gradients(dy/dx , dz/dy) and later apply chain rule to calculate final gradient (minimize loss ie dloss/dx= dloss/dz * dz/dy * dy/dx)"
   ]
  },
  {
   "cell_type": "markdown",
   "metadata": {},
   "source": [
    "- Main Concept:\n",
    "    1. Forward pass: Compute loss\n",
    "    2. Compute local gradients\n",
    "    3. Backward pass: Compute dLoss/dWeight using chain rule"
   ]
  },
  {
   "cell_type": "markdown",
   "metadata": {},
   "source": [
    "- Eg.\n",
    "    - Let forward pass be: loss= (wx -y)^2 ie x|&w->* (x * w ) = yh|&y->-(yh-y)=s->^2=s^2(loss)\n",
    "    - Then backward pass be like: dloss/dw = dloss/dyh * dyh/dw\n",
    "    -                                      = dloss/ds * ds/dyh * dyh/dw [since dloss/dyh = dloss/ds * ds/dyh]\n",
    "    -                                      = ds^2/ds *d(yh-y)/dyh * d(w*x)/dw [since, loss= s^2, s= yh-y, yh = w*x]\n",
    "    -                                      = 2s * d(yh-y)/dyh * x"
   ]
  },
  {
   "cell_type": "code",
   "execution_count": 1,
   "metadata": {},
   "outputs": [],
   "source": [
    "import torch"
   ]
  },
  {
   "cell_type": "code",
   "execution_count": 2,
   "metadata": {},
   "outputs": [],
   "source": [
    "x = torch.tensor(1.0)\n",
    "y = torch.tensor(2.0)\n",
    "w = torch.tensor(1.0, requires_grad= True)"
   ]
  },
  {
   "cell_type": "code",
   "execution_count": 3,
   "metadata": {},
   "outputs": [
    {
     "name": "stdout",
     "output_type": "stream",
     "text": [
      "tensor(1., grad_fn=<PowBackward0>)\n"
     ]
    }
   ],
   "source": [
    "#forward pass\n",
    "y_hat = w*x\n",
    "loss = (y_hat -y)**2\n",
    "print(loss)"
   ]
  },
  {
   "cell_type": "code",
   "execution_count": 4,
   "metadata": {},
   "outputs": [
    {
     "name": "stdout",
     "output_type": "stream",
     "text": [
      "tensor(-2.)\n"
     ]
    },
    {
     "name": "stderr",
     "output_type": "stream",
     "text": [
      "C:\\Users\\admin\\anaconda3\\lib\\site-packages\\torch\\autograd\\__init__.py:154: UserWarning: CUDA initialization: CUDA driver initialization failed, you might not have a CUDA gpu. (Triggered internally at  ..\\c10\\cuda\\CUDAFunctions.cpp:112.)\n",
      "  Variable._execution_engine.run_backward(\n"
     ]
    }
   ],
   "source": [
    "#backward pass\n",
    "loss.backward()\n",
    "print(w.grad)"
   ]
  },
  {
   "cell_type": "markdown",
   "metadata": {},
   "source": [
    "- Next steps (iterate):\n",
    "    - update weights\n",
    "    - forward and backward pass"
   ]
  }
 ],
 "metadata": {
  "interpreter": {
   "hash": "ef7f9a8012d9131766e31894c279374cc63c73121ed4db3b9e67a294a4bf0e74"
  },
  "kernelspec": {
   "display_name": "Python 3.9.7 64-bit ('base': conda)",
   "language": "python",
   "name": "python3"
  },
  "language_info": {
   "codemirror_mode": {
    "name": "ipython",
    "version": 3
   },
   "file_extension": ".py",
   "mimetype": "text/x-python",
   "name": "python",
   "nbconvert_exporter": "python",
   "pygments_lexer": "ipython3",
   "version": "3.8.2"
  },
  "orig_nbformat": 4
 },
 "nbformat": 4,
 "nbformat_minor": 2
}
