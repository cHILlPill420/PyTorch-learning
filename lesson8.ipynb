{
 "cells": [
  {
   "cell_type": "markdown",
   "metadata": {},
   "source": [
    "Dataset and DataLoader Batch Training"
   ]
  },
  {
   "cell_type": "code",
   "execution_count": 22,
   "metadata": {},
   "outputs": [],
   "source": [
    "import torch\n",
    "import torchvision\n",
    "from torch.utils.data import Dataset, DataLoader\n",
    "import numpy as np\n",
    "import math"
   ]
  },
  {
   "cell_type": "code",
   "execution_count": 23,
   "metadata": {},
   "outputs": [],
   "source": [
    "class WineDataset(Dataset):\n",
    "    '''\n",
    "        Loads wine dataset with a bit of processing.\n",
    "    '''    \n",
    "    def __init__(self):\n",
    "        '''\n",
    "            Loads wine dataset and sets features, labels and no. of samples\n",
    "        '''\n",
    "        #load data\n",
    "        xy = np.loadtxt('./dataset/wine.csv', delimiter=\",\", dtype=np.float32, skiprows=1)\n",
    "        self.x = torch.from_numpy(xy[:,1:])\n",
    "        self.y = torch.from_numpy(xy[:,[0]])\n",
    "        self.n_samples = xy.shape[0]\n",
    "    \n",
    "    def __getitem__(self, index):\n",
    "        '''\n",
    "            Returns datapoint at given index as tuple.\n",
    "        '''\n",
    "        return self.x[index], self.y[index]\n",
    "\n",
    "    def __len__(self):\n",
    "        '''\n",
    "            Returns no. of samples.\n",
    "        '''\n",
    "        return self.n_samples"
   ]
  },
  {
   "cell_type": "code",
   "execution_count": 24,
   "metadata": {},
   "outputs": [
    {
     "name": "stdout",
     "output_type": "stream",
     "text": [
      "tensor([1.4230e+01, 1.7100e+00, 2.4300e+00, 1.5600e+01, 1.2700e+02, 2.8000e+00,\n",
      "        3.0600e+00, 2.8000e-01, 2.2900e+00, 5.6400e+00, 1.0400e+00, 3.9200e+00,\n",
      "        1.0650e+03]) tensor([1.])\n"
     ]
    }
   ],
   "source": [
    "#initializing dataset\n",
    "dataset = WineDataset()\n",
    "#getting data from dataset\n",
    "first_data = dataset[0]\n",
    "features, labels = first_data\n",
    "print(features,labels)"
   ]
  },
  {
   "cell_type": "markdown",
   "metadata": {},
   "source": [
    "- Using DataLoader"
   ]
  },
  {
   "cell_type": "code",
   "execution_count": 25,
   "metadata": {},
   "outputs": [
    {
     "name": "stdout",
     "output_type": "stream",
     "text": [
      "tensor([[1.4060e+01, 2.1500e+00, 2.6100e+00, 1.7600e+01, 1.2100e+02, 2.6000e+00,\n",
      "         2.5100e+00, 3.1000e-01, 1.2500e+00, 5.0500e+00, 1.0600e+00, 3.5800e+00,\n",
      "         1.2950e+03],\n",
      "        [1.3870e+01, 1.9000e+00, 2.8000e+00, 1.9400e+01, 1.0700e+02, 2.9500e+00,\n",
      "         2.9700e+00, 3.7000e-01, 1.7600e+00, 4.5000e+00, 1.2500e+00, 3.4000e+00,\n",
      "         9.1500e+02],\n",
      "        [1.3070e+01, 1.5000e+00, 2.1000e+00, 1.5500e+01, 9.8000e+01, 2.4000e+00,\n",
      "         2.6400e+00, 2.8000e-01, 1.3700e+00, 3.7000e+00, 1.1800e+00, 2.6900e+00,\n",
      "         1.0200e+03],\n",
      "        [1.4380e+01, 1.8700e+00, 2.3800e+00, 1.2000e+01, 1.0200e+02, 3.3000e+00,\n",
      "         3.6400e+00, 2.9000e-01, 2.9600e+00, 7.5000e+00, 1.2000e+00, 3.0000e+00,\n",
      "         1.5470e+03]]) tensor([[1.],\n",
      "        [1.],\n",
      "        [1.],\n",
      "        [1.]])\n"
     ]
    }
   ],
   "source": [
    "dataloader = DataLoader(dataset = dataset, batch_size = 4, shuffle= True) #use num_workers attribute to add subprocessors\n",
    "#getting data from dataset using dataloader and dataiter\n",
    "datatiter = iter(dataloader)\n",
    "data= datatiter.next()\n",
    "features, labels = data\n",
    "print(features,labels)\n"
   ]
  },
  {
   "cell_type": "code",
   "execution_count": 26,
   "metadata": {},
   "outputs": [
    {
     "name": "stdout",
     "output_type": "stream",
     "text": [
      "178 45\n"
     ]
    }
   ],
   "source": [
    "#dummy training loop\n",
    "#setting hyperparameters\n",
    "num_epochs = 2\n",
    "total_samples = len(dataset)\n",
    "n_iterations = math.ceil(total_samples/4) #since batch_size = 4 in dataloader\n",
    "print(total_samples, n_iterations)"
   ]
  },
  {
   "cell_type": "code",
   "execution_count": 27,
   "metadata": {},
   "outputs": [
    {
     "name": "stdout",
     "output_type": "stream",
     "text": [
      "epoch: 1/2, step: 5/45, inputs: torch.Size([4, 13])\n",
      "epoch: 1/2, step: 10/45, inputs: torch.Size([4, 13])\n",
      "epoch: 1/2, step: 15/45, inputs: torch.Size([4, 13])\n",
      "epoch: 1/2, step: 20/45, inputs: torch.Size([4, 13])\n",
      "epoch: 1/2, step: 25/45, inputs: torch.Size([4, 13])\n",
      "epoch: 1/2, step: 30/45, inputs: torch.Size([4, 13])\n",
      "epoch: 1/2, step: 35/45, inputs: torch.Size([4, 13])\n",
      "epoch: 1/2, step: 40/45, inputs: torch.Size([4, 13])\n",
      "epoch: 1/2, step: 45/45, inputs: torch.Size([2, 13])\n",
      "epoch: 2/2, step: 5/45, inputs: torch.Size([4, 13])\n",
      "epoch: 2/2, step: 10/45, inputs: torch.Size([4, 13])\n",
      "epoch: 2/2, step: 15/45, inputs: torch.Size([4, 13])\n",
      "epoch: 2/2, step: 20/45, inputs: torch.Size([4, 13])\n",
      "epoch: 2/2, step: 25/45, inputs: torch.Size([4, 13])\n",
      "epoch: 2/2, step: 30/45, inputs: torch.Size([4, 13])\n",
      "epoch: 2/2, step: 35/45, inputs: torch.Size([4, 13])\n",
      "epoch: 2/2, step: 40/45, inputs: torch.Size([4, 13])\n",
      "epoch: 2/2, step: 45/45, inputs: torch.Size([2, 13])\n"
     ]
    }
   ],
   "source": [
    "for epoch in range(num_epochs):\n",
    "    for i, (inputs,labels) in enumerate(dataloader):\n",
    "        #forward pass\n",
    "        if(i+1)%5==0:\n",
    "            print(f'epoch: {epoch+1}/{num_epochs}, step: {i+1}/{n_iterations}, inputs: {inputs.shape}')"
   ]
  },
  {
   "cell_type": "code",
   "execution_count": null,
   "metadata": {},
   "outputs": [],
   "source": [
    "# to use MNIST data use \n",
    "# torchvision.datasets.MNIST()"
   ]
  }
 ],
 "metadata": {
  "interpreter": {
   "hash": "03b9120f418a5b95b4a7c89786f0fbf5745ee3d028df6a561a6ecf7134c23247"
  },
  "kernelspec": {
   "display_name": "Python 3.8.2 ('torch-cpu': venv)",
   "language": "python",
   "name": "python3"
  },
  "language_info": {
   "codemirror_mode": {
    "name": "ipython",
    "version": 3
   },
   "file_extension": ".py",
   "mimetype": "text/x-python",
   "name": "python",
   "nbconvert_exporter": "python",
   "pygments_lexer": "ipython3",
   "version": "3.8.2"
  },
  "orig_nbformat": 4
 },
 "nbformat": 4,
 "nbformat_minor": 2
}
