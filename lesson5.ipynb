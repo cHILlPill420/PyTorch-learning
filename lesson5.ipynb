{
 "cells": [
  {
   "cell_type": "markdown",
   "metadata": {},
   "source": [
    "Training pipeline ( Model, Loss and Optimizer)"
   ]
  },
  {
   "cell_type": "markdown",
   "metadata": {},
   "source": [
    "    - continuing method 3 and 4 from lesson 4"
   ]
  },
  {
   "cell_type": "markdown",
   "metadata": {},
   "source": [
    "- method 3:\n",
    "    - prediction: manual (forward pass)\n",
    "    - gradient computation: Autograd (backward pass)\n",
    "    - loss computation: PyTorch Loss\n",
    "    - parameters update: PyTorch Optimizer"
   ]
  },
  {
   "cell_type": "markdown",
   "metadata": {},
   "source": [
    "- STEPS:\n",
    "    1. Design model (I/O size, forward pass)\n",
    "    2. Construct loss and optimizer\n",
    "    3. Training loop\n",
    "        - forward pass: compute prediction\n",
    "        - backward pass: compute gradient\n",
    "        - update weights"
   ]
  },
  {
   "cell_type": "code",
   "execution_count": 1,
   "metadata": {},
   "outputs": [],
   "source": [
    "import torch\n",
    "import torch.nn as nn"
   ]
  },
  {
   "cell_type": "code",
   "execution_count": 2,
   "metadata": {},
   "outputs": [],
   "source": [
    "#Data :\n",
    "X = torch.tensor([1,2,3,4], dtype=torch.float32)\n",
    "Y = torch.tensor([2,4,6,8], dtype=torch.float32)\n",
    "\n",
    "#weight initialization:\n",
    "w = torch.tensor(0, dtype=torch.float32, requires_grad=True)\n"
   ]
  },
  {
   "cell_type": "code",
   "execution_count": 3,
   "metadata": {},
   "outputs": [],
   "source": [
    "#model prediction:\n",
    "def forward(x):\n",
    "    return w*x"
   ]
  },
  {
   "cell_type": "code",
   "execution_count": 4,
   "metadata": {},
   "outputs": [
    {
     "name": "stdout",
     "output_type": "stream",
     "text": [
      "Prediction before training: f(5) = 0.000\n"
     ]
    }
   ],
   "source": [
    "print(f'Prediction before training: f(5) = {forward(5):.3f}')"
   ]
  },
  {
   "cell_type": "code",
   "execution_count": 5,
   "metadata": {},
   "outputs": [
    {
     "name": "stderr",
     "output_type": "stream",
     "text": [
      "C:\\Users\\admin\\anaconda3\\lib\\site-packages\\torch\\autograd\\__init__.py:154: UserWarning: CUDA initialization: CUDA driver initialization failed, you might not have a CUDA gpu. (Triggered internally at  ..\\c10\\cuda\\CUDAFunctions.cpp:112.)\n",
      "  Variable._execution_engine.run_backward(\n"
     ]
    },
    {
     "name": "stdout",
     "output_type": "stream",
     "text": [
      "Epoch: 1 --- weights: 0.300 --- loss: 30.00000000\n",
      "Epoch: 4 --- weights: 0.956 --- loss: 11.31448650\n",
      "Epoch: 7 --- weights: 1.359 --- loss: 4.26725292\n",
      "Epoch: 10 --- weights: 1.606 --- loss: 1.60939169\n",
      "Epoch: 13 --- weights: 1.758 --- loss: 0.60698116\n",
      "Epoch: 16 --- weights: 1.851 --- loss: 0.22892261\n",
      "Epoch: 19 --- weights: 1.909 --- loss: 0.08633806\n",
      "Epoch: 22 --- weights: 1.944 --- loss: 0.03256231\n",
      "Epoch: 25 --- weights: 1.966 --- loss: 0.01228084\n",
      "Epoch: 28 --- weights: 1.979 --- loss: 0.00463169\n",
      "Epoch: 31 --- weights: 1.987 --- loss: 0.00174685\n",
      "Epoch: 34 --- weights: 1.992 --- loss: 0.00065882\n",
      "Epoch: 37 --- weights: 1.995 --- loss: 0.00024848\n",
      "Epoch: 40 --- weights: 1.997 --- loss: 0.00009371\n",
      "Epoch: 43 --- weights: 1.998 --- loss: 0.00003534\n",
      "Epoch: 46 --- weights: 1.999 --- loss: 0.00001333\n",
      "Epoch: 49 --- weights: 1.999 --- loss: 0.00000503\n",
      "Epoch: 52 --- weights: 2.000 --- loss: 0.00000190\n",
      "Epoch: 55 --- weights: 2.000 --- loss: 0.00000071\n",
      "Epoch: 58 --- weights: 2.000 --- loss: 0.00000027\n",
      "Epoch: 61 --- weights: 2.000 --- loss: 0.00000010\n"
     ]
    }
   ],
   "source": [
    "#Training\n",
    "learning_rate = 0.01\n",
    "n_iters = 63\n",
    "loss = nn.MSELoss()\n",
    "optimizer = torch.optim.SGD([w], lr= learning_rate)\n",
    "\n",
    "for epoch in range(n_iters):\n",
    "    #prediction = forward pass\n",
    "    y_pred = forward(X)\n",
    "\n",
    "    #loss\n",
    "    l = loss(Y, y_pred)\n",
    "\n",
    "    #gradient = backward pass \n",
    "    l.backward() #dl/dw\n",
    "\n",
    "    #weight update \n",
    "    optimizer.step()\n",
    "    \n",
    "    #emptying gradient\n",
    "    optimizer.zero_grad()\n",
    "\n",
    "    #for info\n",
    "    if epoch%3 == 0:\n",
    "        print(f'Epoch: {epoch+1} --- weights: {w:.3f} --- loss: {l:.8f}')"
   ]
  },
  {
   "cell_type": "code",
   "execution_count": 6,
   "metadata": {},
   "outputs": [
    {
     "name": "stdout",
     "output_type": "stream",
     "text": [
      "prediction after training: f(5) = 10.000\n"
     ]
    }
   ],
   "source": [
    "print(f'prediction after training: f(5) = {forward(5):.3f}')"
   ]
  },
  {
   "cell_type": "markdown",
   "metadata": {},
   "source": [
    "- method 4:\n",
    "    - prediction: PyTorch model (forward pass)\n",
    "    - gradient computation: Autograd (backward pass)\n",
    "    - loss computation: PyTorch Loss\n",
    "    - parameters update: PyTorch Optimizer\n",
    "    "
   ]
  },
  {
   "cell_type": "code",
   "execution_count": 40,
   "metadata": {},
   "outputs": [],
   "source": [
    "import torch\n",
    "import torch.nn as nn"
   ]
  },
  {
   "cell_type": "code",
   "execution_count": 41,
   "metadata": {},
   "outputs": [
    {
     "name": "stdout",
     "output_type": "stream",
     "text": [
      "4 1\n"
     ]
    }
   ],
   "source": [
    "#Data :\n",
    "X = torch.tensor([[1],[2],[3],[4]], dtype=torch.float32)\n",
    "Y = torch.tensor([[2],[4],[6],[8]], dtype=torch.float32)\n",
    "\n",
    "X_test = torch.tensor([5], dtype=torch.float32)\n",
    "\n",
    "n_samples, n_features = X.shape\n",
    "print(n_samples, n_features)\n",
    "input_size = n_features\n",
    "output_size = n_features"
   ]
  },
  {
   "cell_type": "code",
   "execution_count": 36,
   "metadata": {},
   "outputs": [],
   "source": [
    "#model:\n",
    "model = nn.Linear(input_size, output_size)"
   ]
  },
  {
   "cell_type": "markdown",
   "metadata": {},
   "source": [
    "        Cell 16 does same thing as cell 14"
   ]
  },
  {
   "cell_type": "code",
   "execution_count": 46,
   "metadata": {},
   "outputs": [],
   "source": [
    "#creating custom model:\n",
    "class LinearRegr(nn.Module):\n",
    "    def __init__(self, input_dim, output_dim):\n",
    "        super(LinearRegr,self).__init__()\n",
    "        #define layers\n",
    "        self.lin= nn.Linear(input_dim, output_dim)\n",
    "    \n",
    "    def forward(self, x):\n",
    "        return self.lin(x)\n",
    "\n",
    "#using custom model\n",
    "model = LinearRegr(input_size,output_size)"
   ]
  },
  {
   "cell_type": "code",
   "execution_count": 47,
   "metadata": {},
   "outputs": [
    {
     "name": "stdout",
     "output_type": "stream",
     "text": [
      "prediction before training: f(5) = -0.578\n"
     ]
    }
   ],
   "source": [
    "print(f'prediction before training: f(5) = {model(X_test).item():.3f}')"
   ]
  },
  {
   "cell_type": "code",
   "execution_count": 52,
   "metadata": {},
   "outputs": [
    {
     "name": "stdout",
     "output_type": "stream",
     "text": [
      "Epoch: 1 --- weights: 1.998 --- loss: 0.00000856\n",
      "Epoch: 101 --- weights: 1.998 --- loss: 0.00000470\n",
      "Epoch: 201 --- weights: 1.999 --- loss: 0.00000258\n",
      "Epoch: 301 --- weights: 1.999 --- loss: 0.00000142\n",
      "Epoch: 401 --- weights: 1.999 --- loss: 0.00000078\n",
      "Epoch: 501 --- weights: 1.999 --- loss: 0.00000043\n",
      "Epoch: 601 --- weights: 2.000 --- loss: 0.00000023\n",
      "Epoch: 701 --- weights: 2.000 --- loss: 0.00000013\n"
     ]
    }
   ],
   "source": [
    "#training\n",
    "learning_rate = 0.01\n",
    "n_iters = 800\n",
    "loss = nn.MSELoss()\n",
    "optimizer = torch.optim.SGD(model.parameters(), lr=learning_rate)\n",
    "\n",
    "for epoch in range(n_iters):\n",
    "    #prediction: forward pass\n",
    "    y_pred = model(X)\n",
    "\n",
    "    #loss\n",
    "    l = loss(Y,y_pred)\n",
    "\n",
    "     #gradient = backward pass \n",
    "    l.backward() #dl/dw\n",
    "\n",
    "    #weight update \n",
    "    optimizer.step()\n",
    "    \n",
    "    #emptying gradient\n",
    "    optimizer.zero_grad()\n",
    "\n",
    "    #for info\n",
    "    if epoch%100 == 0:\n",
    "        [w, b]= model.parameters()\n",
    "        print(f'Epoch: {epoch+1} --- weights: {w[0][0].item():.3f} --- loss: {l:.8f}')   "
   ]
  },
  {
   "cell_type": "code",
   "execution_count": 53,
   "metadata": {},
   "outputs": [
    {
     "name": "stdout",
     "output_type": "stream",
     "text": [
      "prediction after training: f(5) = 10.000\n"
     ]
    }
   ],
   "source": [
    "print(f'prediction after training: f(5) = {model(X_test).item():.3f}')"
   ]
  },
  {
   "cell_type": "code",
   "execution_count": null,
   "metadata": {},
   "outputs": [],
   "source": []
  }
 ],
 "metadata": {
  "interpreter": {
   "hash": "ef7f9a8012d9131766e31894c279374cc63c73121ed4db3b9e67a294a4bf0e74"
  },
  "kernelspec": {
   "display_name": "Python 3.9.7 64-bit ('base': conda)",
   "language": "python",
   "name": "python3"
  },
  "language_info": {
   "codemirror_mode": {
    "name": "ipython",
    "version": 3
   },
   "file_extension": ".py",
   "mimetype": "text/x-python",
   "name": "python",
   "nbconvert_exporter": "python",
   "pygments_lexer": "ipython3",
   "version": "3.8.2"
  },
  "orig_nbformat": 4
 },
 "nbformat": 4,
 "nbformat_minor": 2
}
