{
 "cells": [
  {
   "cell_type": "markdown",
   "metadata": {},
   "source": [
    "Logistic Reression"
   ]
  },
  {
   "cell_type": "markdown",
   "metadata": {},
   "source": [
    "- STEPS:\n",
    "    1. Design model (I/O size, forward pass)\n",
    "    2. Construct loss and optimizer\n",
    "    3. Training loop\n",
    "        - forward pass: compute prediction\n",
    "        - backward pass: compute gradient\n",
    "        - update weights"
   ]
  },
  {
   "cell_type": "code",
   "execution_count": 1,
   "metadata": {},
   "outputs": [],
   "source": [
    "import torch\n",
    "import torch.nn as nn\n",
    "import numpy as np\n",
    "from sklearn import datasets\n",
    "from sklearn.preprocessing import StandardScaler\n",
    "from sklearn.model_selection import train_test_split"
   ]
  },
  {
   "cell_type": "code",
   "execution_count": 2,
   "metadata": {},
   "outputs": [
    {
     "name": "stdout",
     "output_type": "stream",
     "text": [
      "569 30\n"
     ]
    }
   ],
   "source": [
    "#step 0.: prepare data\n",
    "bc = datasets.load_breast_cancer()\n",
    "X,y = bc.data , bc.target\n",
    "n_samples, n_features = X.shape\n",
    "print(n_samples, n_features)\n",
    "X_train, X_test, y_train, y_test = train_test_split(X, y, test_size=0.2, random_state=1234)"
   ]
  },
  {
   "cell_type": "code",
   "execution_count": 3,
   "metadata": {},
   "outputs": [],
   "source": [
    "#step 0.1: scaling\n",
    "sc = StandardScaler()\n",
    "X_train = sc.fit_transform(X_train)\n",
    "X_test = sc.fit_transform(X_test)\n",
    "\n",
    "#converted to tensor\n",
    "X_train = torch.from_numpy(X_train.astype(np.float32))\n",
    "X_test = torch.from_numpy(X_test.astype(np.float32))\n",
    "y_train = torch.from_numpy(y_train.astype(np.float32))\n",
    "y_test = torch.from_numpy(y_test.astype(np.float32))\n",
    "\n",
    "#reshaping 1 row vector to 1 column vector\n",
    "y_train = y_train.view(y_train.shape[0],1)\n",
    "y_test = y_test.view(y_test.shape[0],1)"
   ]
  },
  {
   "cell_type": "code",
   "execution_count": 7,
   "metadata": {},
   "outputs": [],
   "source": [
    "#step 1.: model\n",
    "#f = wx +b, sigmoid at the end\n",
    "class LogisticRegression(nn.Module):\n",
    "    def __init__(self, n_input_features):\n",
    "        super(LogisticRegression, self).__init__()\n",
    "        self.lin = nn.Linear(n_input_features, 1)\n",
    "    \n",
    "    def forward(self, x):\n",
    "        y_predicted = torch.sigmoid(self.lin(x))\n",
    "        return y_predicted\n",
    "\n",
    "model = LogisticRegression(n_features)"
   ]
  },
  {
   "cell_type": "code",
   "execution_count": 8,
   "metadata": {},
   "outputs": [],
   "source": [
    "#step 2.: loss and optimizer\n",
    "learning_rate = 0.01\n",
    "criterion = nn.BCELoss()\n",
    "optimizer = torch.optim.SGD(model.parameters(), lr = learning_rate)"
   ]
  },
  {
   "cell_type": "code",
   "execution_count": 9,
   "metadata": {},
   "outputs": [
    {
     "name": "stdout",
     "output_type": "stream",
     "text": [
      "epoch: 10, loss = 0.5837\n",
      "epoch: 20, loss = 0.4763\n",
      "epoch: 30, loss = 0.4095\n",
      "epoch: 40, loss = 0.3639\n",
      "epoch: 50, loss = 0.3306\n",
      "epoch: 60, loss = 0.3052\n",
      "epoch: 70, loss = 0.2850\n",
      "epoch: 80, loss = 0.2685\n",
      "epoch: 90, loss = 0.2546\n",
      "epoch: 100, loss = 0.2429\n",
      "epoch: 110, loss = 0.2327\n",
      "epoch: 120, loss = 0.2238\n",
      "epoch: 130, loss = 0.2159\n",
      "epoch: 140, loss = 0.2088\n",
      "epoch: 150, loss = 0.2024\n",
      "epoch: 160, loss = 0.1966\n",
      "epoch: 170, loss = 0.1913\n",
      "epoch: 180, loss = 0.1865\n",
      "epoch: 190, loss = 0.1820\n",
      "epoch: 200, loss = 0.1779\n",
      "epoch: 210, loss = 0.1741\n",
      "epoch: 220, loss = 0.1705\n",
      "epoch: 230, loss = 0.1671\n",
      "epoch: 240, loss = 0.1640\n",
      "epoch: 250, loss = 0.1610\n",
      "epoch: 260, loss = 0.1582\n",
      "epoch: 270, loss = 0.1556\n",
      "epoch: 280, loss = 0.1531\n",
      "epoch: 290, loss = 0.1507\n",
      "epoch: 300, loss = 0.1485\n",
      "epoch: 310, loss = 0.1464\n",
      "epoch: 320, loss = 0.1443\n",
      "epoch: 330, loss = 0.1424\n",
      "epoch: 340, loss = 0.1405\n",
      "epoch: 350, loss = 0.1388\n",
      "epoch: 360, loss = 0.1371\n",
      "epoch: 370, loss = 0.1354\n",
      "epoch: 380, loss = 0.1339\n",
      "epoch: 390, loss = 0.1324\n",
      "epoch: 400, loss = 0.1309\n",
      "epoch: 410, loss = 0.1296\n",
      "epoch: 420, loss = 0.1282\n",
      "epoch: 430, loss = 0.1269\n",
      "epoch: 440, loss = 0.1257\n",
      "epoch: 450, loss = 0.1245\n",
      "epoch: 460, loss = 0.1233\n",
      "epoch: 470, loss = 0.1222\n",
      "epoch: 480, loss = 0.1211\n",
      "epoch: 490, loss = 0.1201\n",
      "epoch: 500, loss = 0.1190\n",
      "epoch: 510, loss = 0.1180\n",
      "epoch: 520, loss = 0.1171\n",
      "epoch: 530, loss = 0.1162\n",
      "epoch: 540, loss = 0.1153\n",
      "epoch: 550, loss = 0.1144\n",
      "epoch: 560, loss = 0.1135\n",
      "epoch: 570, loss = 0.1127\n",
      "epoch: 580, loss = 0.1119\n",
      "epoch: 590, loss = 0.1111\n",
      "epoch: 600, loss = 0.1103\n",
      "epoch: 610, loss = 0.1096\n",
      "epoch: 620, loss = 0.1088\n",
      "epoch: 630, loss = 0.1081\n",
      "epoch: 640, loss = 0.1074\n",
      "epoch: 650, loss = 0.1068\n",
      "epoch: 660, loss = 0.1061\n",
      "epoch: 670, loss = 0.1055\n",
      "epoch: 680, loss = 0.1048\n",
      "epoch: 690, loss = 0.1042\n",
      "epoch: 700, loss = 0.1036\n",
      "epoch: 710, loss = 0.1030\n",
      "epoch: 720, loss = 0.1024\n",
      "epoch: 730, loss = 0.1019\n",
      "epoch: 740, loss = 0.1013\n",
      "epoch: 750, loss = 0.1008\n",
      "epoch: 760, loss = 0.1002\n",
      "epoch: 770, loss = 0.0997\n",
      "epoch: 780, loss = 0.0992\n",
      "epoch: 790, loss = 0.0987\n",
      "epoch: 800, loss = 0.0982\n",
      "epoch: 810, loss = 0.0977\n",
      "epoch: 820, loss = 0.0973\n",
      "epoch: 830, loss = 0.0968\n",
      "epoch: 840, loss = 0.0964\n",
      "epoch: 850, loss = 0.0959\n",
      "epoch: 860, loss = 0.0955\n",
      "epoch: 870, loss = 0.0950\n",
      "epoch: 880, loss = 0.0946\n",
      "epoch: 890, loss = 0.0942\n",
      "epoch: 900, loss = 0.0938\n",
      "epoch: 910, loss = 0.0934\n",
      "epoch: 920, loss = 0.0930\n",
      "epoch: 930, loss = 0.0926\n",
      "epoch: 940, loss = 0.0922\n",
      "epoch: 950, loss = 0.0919\n",
      "epoch: 960, loss = 0.0915\n",
      "epoch: 970, loss = 0.0911\n",
      "epoch: 980, loss = 0.0908\n",
      "epoch: 990, loss = 0.0904\n",
      "epoch: 1000, loss = 0.0901\n",
      "accuracy = 0.9386\n"
     ]
    }
   ],
   "source": [
    "#step 3.: training loop\n",
    "num_epochs = 1000\n",
    "for epoch in range(num_epochs):\n",
    "    # forward pass and loss\n",
    "    y_predicted = model(X_train)\n",
    "    loss = criterion(y_predicted, y_train)\n",
    "\n",
    "    #backward pass\n",
    "    loss.backward()\n",
    "\n",
    "    #update weights\n",
    "    optimizer.step()\n",
    "\n",
    "    #zero gradients\n",
    "    optimizer.zero_grad()\n",
    "\n",
    "    if (epoch+1)%10 == 0:\n",
    "        print(f'epoch: {epoch+1}, loss = {loss.item():.4f}')\n",
    "\n",
    "#step 4.: evaluation\n",
    "with torch.no_grad(): #since we don't need any gradients\n",
    "    y_predicted = model(X_test)\n",
    "    y_predicted_cls = y_predicted.round()\n",
    "    acc = y_predicted_cls.eq(y_test).sum()/float(y_test.shape[0])\n",
    "    print(f'accuracy = {acc:.4f}')\n",
    "\n"
   ]
  },
  {
   "cell_type": "code",
   "execution_count": null,
   "metadata": {},
   "outputs": [],
   "source": []
  }
 ],
 "metadata": {
  "interpreter": {
   "hash": "ef7f9a8012d9131766e31894c279374cc63c73121ed4db3b9e67a294a4bf0e74"
  },
  "kernelspec": {
   "display_name": "Python 3.9.7 64-bit ('base': conda)",
   "language": "python",
   "name": "python3"
  },
  "language_info": {
   "codemirror_mode": {
    "name": "ipython",
    "version": 3
   },
   "file_extension": ".py",
   "mimetype": "text/x-python",
   "name": "python",
   "nbconvert_exporter": "python",
   "pygments_lexer": "ipython3",
   "version": "3.8.2"
  },
  "orig_nbformat": 4
 },
 "nbformat": 4,
 "nbformat_minor": 2
}
