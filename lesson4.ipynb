{
 "cells": [
  {
   "cell_type": "markdown",
   "metadata": {},
   "source": [
    "Gradient Descent with Autograd and Backpropagation"
   ]
  },
  {
   "cell_type": "markdown",
   "metadata": {},
   "source": [
    "- method 1: \n",
    "    - prediction: manual\n",
    "    - gradient computation: manual\n",
    "    - loss computation: manual\n",
    "    - parameters update: manual\n",
    "    - using numpy only"
   ]
  },
  {
   "cell_type": "markdown",
   "metadata": {},
   "source": [
    "    - simple linear regression"
   ]
  },
  {
   "cell_type": "code",
   "execution_count": 1,
   "metadata": {},
   "outputs": [],
   "source": [
    "import numpy as np"
   ]
  },
  {
   "cell_type": "markdown",
   "metadata": {},
   "source": [
    "        - let function be f=2*x "
   ]
  },
  {
   "cell_type": "code",
   "execution_count": 2,
   "metadata": {},
   "outputs": [],
   "source": [
    "#Data :\n",
    "X = np.array([1,2,3,4], dtype=np.float32)\n",
    "Y = np.array([2,4,6,8], dtype=np.float32)\n",
    "\n",
    "#weight initialization:\n",
    "w = 0"
   ]
  },
  {
   "cell_type": "code",
   "execution_count": 3,
   "metadata": {},
   "outputs": [],
   "source": [
    "#model prediction:\n",
    "def forward(x):\n",
    "    return w*x"
   ]
  },
  {
   "cell_type": "code",
   "execution_count": 4,
   "metadata": {},
   "outputs": [],
   "source": [
    "#loss = MSE =J\n",
    "def loss(y, y_predicted):\n",
    "    return (((y_predicted-y)**2)).mean()"
   ]
  },
  {
   "cell_type": "code",
   "execution_count": 5,
   "metadata": {},
   "outputs": [],
   "source": [
    "#gradient\n",
    "#MSE = 1/N * ((w*x)-y)**2=J\n",
    "#dJ/dw = 1/N *2x *(wx-y)\n",
    "def gradient(x,y,y_predicted):\n",
    "    return np.dot(2*x, y_predicted-y).mean()\n"
   ]
  },
  {
   "cell_type": "code",
   "execution_count": 6,
   "metadata": {},
   "outputs": [
    {
     "name": "stdout",
     "output_type": "stream",
     "text": [
      "Prediction before training: f(5) = 0.000\n"
     ]
    }
   ],
   "source": [
    "print(f'Prediction before training: f(5) = {forward(5):.3f}')"
   ]
  },
  {
   "cell_type": "code",
   "execution_count": 7,
   "metadata": {},
   "outputs": [
    {
     "name": "stdout",
     "output_type": "stream",
     "text": [
      "Epoch: 1 --- weights: 1.200 --- loss: 30.00000000\n",
      "Epoch: 2 --- weights: 1.680 --- loss: 4.79999924\n",
      "Epoch: 3 --- weights: 1.872 --- loss: 0.76800019\n",
      "Epoch: 4 --- weights: 1.949 --- loss: 0.12288000\n",
      "Epoch: 5 --- weights: 1.980 --- loss: 0.01966083\n",
      "Epoch: 6 --- weights: 1.992 --- loss: 0.00314570\n",
      "Epoch: 7 --- weights: 1.997 --- loss: 0.00050332\n",
      "Epoch: 8 --- weights: 1.999 --- loss: 0.00008053\n",
      "Epoch: 9 --- weights: 1.999 --- loss: 0.00001288\n",
      "Epoch: 10 --- weights: 2.000 --- loss: 0.00000206\n",
      "Epoch: 11 --- weights: 2.000 --- loss: 0.00000033\n",
      "Epoch: 12 --- weights: 2.000 --- loss: 0.00000005\n",
      "Epoch: 13 --- weights: 2.000 --- loss: 0.00000001\n",
      "Epoch: 14 --- weights: 2.000 --- loss: 0.00000000\n"
     ]
    }
   ],
   "source": [
    "#Training\n",
    "learning_rate = 0.01\n",
    "n_iters = 14\n",
    "\n",
    "for epoch in range(n_iters):\n",
    "    #prediction = forward pass\n",
    "    y_pred = forward(X)\n",
    "\n",
    "    #loss\n",
    "    l = loss(Y, y_pred)\n",
    "\n",
    "    #gradient\n",
    "    dw = gradient(X,Y,y_pred)\n",
    "\n",
    "    #weight update (SGD)\n",
    "    w -= learning_rate * dw\n",
    "\n",
    "    #for info\n",
    "    if epoch%1 == 0:\n",
    "        print(f'Epoch: {epoch+1} --- weights: {w:.3f} --- loss: {l:.8f}')"
   ]
  },
  {
   "cell_type": "code",
   "execution_count": 8,
   "metadata": {},
   "outputs": [
    {
     "name": "stdout",
     "output_type": "stream",
     "text": [
      "prediction after training: f(5) = 10.000\n"
     ]
    }
   ],
   "source": [
    "print(f'prediction after training: f(5) = {forward(5):.3f}')"
   ]
  },
  {
   "cell_type": "markdown",
   "metadata": {},
   "source": [
    "- method 2: \n",
    "    - prediction: manual\n",
    "    - gradient computation: Autograd\n",
    "    - loss computation: manual\n",
    "    - parameters update: manual\n",
    "    - using torch.autograd"
   ]
  },
  {
   "cell_type": "markdown",
   "metadata": {},
   "source": [
    "       - simple linear regression"
   ]
  },
  {
   "cell_type": "code",
   "execution_count": 9,
   "metadata": {},
   "outputs": [],
   "source": [
    "import torch"
   ]
  },
  {
   "cell_type": "code",
   "execution_count": 17,
   "metadata": {},
   "outputs": [],
   "source": [
    "#Data :\n",
    "X = torch.tensor([1,2,3,4], dtype=torch.float32)\n",
    "Y = torch.tensor([2,4,6,8], dtype=torch.float32)\n",
    "\n",
    "#weight initialization:\n",
    "w = torch.tensor(0, dtype=torch.float32, requires_grad=True)\n"
   ]
  },
  {
   "cell_type": "code",
   "execution_count": 18,
   "metadata": {},
   "outputs": [],
   "source": [
    "#model prediction:\n",
    "def forward(x):\n",
    "    return w*x"
   ]
  },
  {
   "cell_type": "code",
   "execution_count": 19,
   "metadata": {},
   "outputs": [],
   "source": [
    "#loss = MSE =J\n",
    "def loss(y, y_predicted):\n",
    "    return (((y_predicted-y)**2)).mean()"
   ]
  },
  {
   "cell_type": "code",
   "execution_count": 20,
   "metadata": {},
   "outputs": [
    {
     "name": "stdout",
     "output_type": "stream",
     "text": [
      "Prediction before training: f(5) = 0.000\n"
     ]
    }
   ],
   "source": [
    "print(f'Prediction before training: f(5) = {forward(5):.3f}')"
   ]
  },
  {
   "cell_type": "code",
   "execution_count": 21,
   "metadata": {},
   "outputs": [
    {
     "name": "stdout",
     "output_type": "stream",
     "text": [
      "Epoch: 1 --- weights: 0.300 --- loss: 30.00000000\n",
      "Epoch: 4 --- weights: 0.956 --- loss: 11.31448650\n",
      "Epoch: 7 --- weights: 1.359 --- loss: 4.26725292\n",
      "Epoch: 10 --- weights: 1.606 --- loss: 1.60939169\n",
      "Epoch: 13 --- weights: 1.758 --- loss: 0.60698116\n",
      "Epoch: 16 --- weights: 1.851 --- loss: 0.22892261\n",
      "Epoch: 19 --- weights: 1.909 --- loss: 0.08633806\n",
      "Epoch: 22 --- weights: 1.944 --- loss: 0.03256231\n",
      "Epoch: 25 --- weights: 1.966 --- loss: 0.01228084\n",
      "Epoch: 28 --- weights: 1.979 --- loss: 0.00463169\n",
      "Epoch: 31 --- weights: 1.987 --- loss: 0.00174685\n",
      "Epoch: 34 --- weights: 1.992 --- loss: 0.00065882\n",
      "Epoch: 37 --- weights: 1.995 --- loss: 0.00024848\n",
      "Epoch: 40 --- weights: 1.997 --- loss: 0.00009371\n",
      "Epoch: 43 --- weights: 1.998 --- loss: 0.00003534\n",
      "Epoch: 46 --- weights: 1.999 --- loss: 0.00001333\n",
      "Epoch: 49 --- weights: 1.999 --- loss: 0.00000503\n",
      "Epoch: 52 --- weights: 2.000 --- loss: 0.00000190\n",
      "Epoch: 55 --- weights: 2.000 --- loss: 0.00000071\n",
      "Epoch: 58 --- weights: 2.000 --- loss: 0.00000027\n",
      "Epoch: 61 --- weights: 2.000 --- loss: 0.00000010\n"
     ]
    }
   ],
   "source": [
    "#Training\n",
    "learning_rate = 0.01\n",
    "n_iters = 63\n",
    "\n",
    "for epoch in range(n_iters):\n",
    "    #prediction = forward pass\n",
    "    y_pred = forward(X)\n",
    "\n",
    "    #loss\n",
    "    l = loss(Y, y_pred)\n",
    "\n",
    "    #gradient = backward pass \n",
    "    l.backward() #dl/dw\n",
    "\n",
    "    #weight update <shouldn't be part of the computational graph>\n",
    "    with torch.no_grad():\n",
    "        w -= learning_rate * w.grad\n",
    "    \n",
    "    #emptying gradient\n",
    "    w.grad.zero_()\n",
    "\n",
    "    #for info\n",
    "    if epoch%3 == 0:\n",
    "        print(f'Epoch: {epoch+1} --- weights: {w:.3f} --- loss: {l:.8f}')"
   ]
  },
  {
   "cell_type": "code",
   "execution_count": 22,
   "metadata": {},
   "outputs": [
    {
     "name": "stdout",
     "output_type": "stream",
     "text": [
      "prediction after training: f(5) = 10.000\n"
     ]
    }
   ],
   "source": [
    "print(f'prediction after training: f(5) = {forward(5):.3f}')"
   ]
  },
  {
   "cell_type": "code",
   "execution_count": null,
   "metadata": {},
   "outputs": [],
   "source": []
  }
 ],
 "metadata": {
  "interpreter": {
   "hash": "ef7f9a8012d9131766e31894c279374cc63c73121ed4db3b9e67a294a4bf0e74"
  },
  "kernelspec": {
   "display_name": "Python 3.9.7 64-bit ('base': conda)",
   "language": "python",
   "name": "python3"
  },
  "language_info": {
   "codemirror_mode": {
    "name": "ipython",
    "version": 3
   },
   "file_extension": ".py",
   "mimetype": "text/x-python",
   "name": "python",
   "nbconvert_exporter": "python",
   "pygments_lexer": "ipython3",
   "version": "3.8.2"
  },
  "orig_nbformat": 4
 },
 "nbformat": 4,
 "nbformat_minor": 2
}
